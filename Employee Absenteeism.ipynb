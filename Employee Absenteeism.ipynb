{
 "cells": [
  {
   "cell_type": "markdown",
   "metadata": {},
   "source": [
    "# load libraries"
   ]
  },
  {
   "cell_type": "code",
   "execution_count": 1,
   "metadata": {},
   "outputs": [
    {
     "name": "stderr",
     "output_type": "stream",
     "text": [
      "C:\\Users\\sai sriram\\Anaconda\\lib\\site-packages\\sklearn\\cross_validation.py:41: DeprecationWarning: This module was deprecated in version 0.18 in favor of the model_selection module into which all the refactored classes and functions are moved. Also note that the interface of the new CV iterators are different from that of this module. This module will be removed in 0.20.\n",
      "  \"This module will be removed in 0.20.\", DeprecationWarning)\n",
      "C:\\Users\\sai sriram\\Anaconda\\lib\\site-packages\\sklearn\\ensemble\\weight_boosting.py:29: DeprecationWarning: numpy.core.umath_tests is an internal NumPy module and should not be imported. It will be removed in a future NumPy release.\n",
      "  from numpy.core.umath_tests import inner1d\n"
     ]
    }
   ],
   "source": [
    "import os\n",
    "import pandas as pd\n",
    "import numpy as np  \n",
    "import matplotlib.pyplot as plt\n",
    "from scipy.stats import chi2_contingency\n",
    "import seaborn as sns\n",
    "from random import randrange, uniform\n",
    "from sklearn.cross_validation import train_test_split\n",
    "from sklearn.tree import DecisionTreeRegressor\n",
    "from sklearn import linear_model\n",
    "from sklearn.cross_validation import train_test_split\n",
    "from sklearn.ensemble import RandomForestClassifier\n",
    "from sklearn import utils"
   ]
  },
  {
   "cell_type": "markdown",
   "metadata": {},
   "source": [
    "# set working directory and import the data"
   ]
  },
  {
   "cell_type": "code",
   "execution_count": 2,
   "metadata": {},
   "outputs": [],
   "source": [
    "os.chdir(\"D:/project 2\")\n",
    "os.getcwd()\n",
    "data_frame = pd.read_excel(\"Absenteeism_at_work_Project.xls\")"
   ]
  },
  {
   "cell_type": "markdown",
   "metadata": {},
   "source": [
    "# checking type and verifying whether data has imported or not"
   ]
  },
  {
   "cell_type": "code",
   "execution_count": 3,
   "metadata": {},
   "outputs": [
    {
     "data": {
      "text/html": [
       "<div>\n",
       "<style scoped>\n",
       "    .dataframe tbody tr th:only-of-type {\n",
       "        vertical-align: middle;\n",
       "    }\n",
       "\n",
       "    .dataframe tbody tr th {\n",
       "        vertical-align: top;\n",
       "    }\n",
       "\n",
       "    .dataframe thead th {\n",
       "        text-align: right;\n",
       "    }\n",
       "</style>\n",
       "<table border=\"1\" class=\"dataframe\">\n",
       "  <thead>\n",
       "    <tr style=\"text-align: right;\">\n",
       "      <th></th>\n",
       "      <th>ID</th>\n",
       "      <th>Reason for absence</th>\n",
       "      <th>Month of absence</th>\n",
       "      <th>Day of the week</th>\n",
       "      <th>Seasons</th>\n",
       "      <th>Transportation expense</th>\n",
       "      <th>Distance from Residence to Work</th>\n",
       "      <th>Service time</th>\n",
       "      <th>Age</th>\n",
       "      <th>Work load Average/day</th>\n",
       "      <th>...</th>\n",
       "      <th>Disciplinary failure</th>\n",
       "      <th>Education</th>\n",
       "      <th>Son</th>\n",
       "      <th>Social drinker</th>\n",
       "      <th>Social smoker</th>\n",
       "      <th>Pet</th>\n",
       "      <th>Weight</th>\n",
       "      <th>Height</th>\n",
       "      <th>Body mass index</th>\n",
       "      <th>Absenteeism time in hours</th>\n",
       "    </tr>\n",
       "  </thead>\n",
       "  <tbody>\n",
       "    <tr>\n",
       "      <th>0</th>\n",
       "      <td>11</td>\n",
       "      <td>26.0</td>\n",
       "      <td>7.0</td>\n",
       "      <td>3</td>\n",
       "      <td>1</td>\n",
       "      <td>289.0</td>\n",
       "      <td>36.0</td>\n",
       "      <td>13.0</td>\n",
       "      <td>33.0</td>\n",
       "      <td>239554.0</td>\n",
       "      <td>...</td>\n",
       "      <td>0.0</td>\n",
       "      <td>1.0</td>\n",
       "      <td>2.0</td>\n",
       "      <td>1.0</td>\n",
       "      <td>0.0</td>\n",
       "      <td>1.0</td>\n",
       "      <td>90.0</td>\n",
       "      <td>172.0</td>\n",
       "      <td>30.0</td>\n",
       "      <td>4.0</td>\n",
       "    </tr>\n",
       "    <tr>\n",
       "      <th>1</th>\n",
       "      <td>36</td>\n",
       "      <td>0.0</td>\n",
       "      <td>7.0</td>\n",
       "      <td>3</td>\n",
       "      <td>1</td>\n",
       "      <td>118.0</td>\n",
       "      <td>13.0</td>\n",
       "      <td>18.0</td>\n",
       "      <td>50.0</td>\n",
       "      <td>239554.0</td>\n",
       "      <td>...</td>\n",
       "      <td>1.0</td>\n",
       "      <td>1.0</td>\n",
       "      <td>1.0</td>\n",
       "      <td>1.0</td>\n",
       "      <td>0.0</td>\n",
       "      <td>0.0</td>\n",
       "      <td>98.0</td>\n",
       "      <td>178.0</td>\n",
       "      <td>31.0</td>\n",
       "      <td>0.0</td>\n",
       "    </tr>\n",
       "  </tbody>\n",
       "</table>\n",
       "<p>2 rows × 21 columns</p>\n",
       "</div>"
      ],
      "text/plain": [
       "   ID  Reason for absence  Month of absence  Day of the week  Seasons  \\\n",
       "0  11                26.0               7.0                3        1   \n",
       "1  36                 0.0               7.0                3        1   \n",
       "\n",
       "   Transportation expense  Distance from Residence to Work  Service time  \\\n",
       "0                   289.0                             36.0          13.0   \n",
       "1                   118.0                             13.0          18.0   \n",
       "\n",
       "    Age  Work load Average/day             ...              \\\n",
       "0  33.0                239554.0            ...               \n",
       "1  50.0                239554.0            ...               \n",
       "\n",
       "   Disciplinary failure  Education  Son  Social drinker  Social smoker  Pet  \\\n",
       "0                   0.0        1.0  2.0             1.0            0.0  1.0   \n",
       "1                   1.0        1.0  1.0             1.0            0.0  0.0   \n",
       "\n",
       "   Weight  Height  Body mass index  Absenteeism time in hours  \n",
       "0    90.0   172.0             30.0                        4.0  \n",
       "1    98.0   178.0             31.0                        0.0  \n",
       "\n",
       "[2 rows x 21 columns]"
      ]
     },
     "execution_count": 3,
     "metadata": {},
     "output_type": "execute_result"
    }
   ],
   "source": [
    "data_frame.head(2)\n"
   ]
  },
  {
   "cell_type": "markdown",
   "metadata": {},
   "source": [
    "# Checking the data types and converting into required ones."
   ]
  },
  {
   "cell_type": "code",
   "execution_count": 4,
   "metadata": {},
   "outputs": [],
   "source": [
    "#conversion of datatypes into numerics\n",
    "\n",
    "for columns in ['Transportation expense','Distance from Residence to Work','Service time','Age',\n",
    "                'Hit target','Son','Pet','Weight','Body mass index','Absenteeism time in hours','Height']: \n",
    "    \n",
    "        data_frame[columns] = data_frame[columns].astype('float') \n",
    "\n",
    "#conversion into categorical\n",
    "\n",
    "for columns in ['Reason for absence', 'Month of absence', 'Day of the week','ID',\n",
    "             'Disciplinary failure', 'Education', 'Seasons', 'Social drinker','Social smoker']:\n",
    "    \n",
    "        data_frame[columns] = data_frame[columns].astype('object')\n",
    "      "
   ]
  },
  {
   "cell_type": "code",
   "execution_count": 5,
   "metadata": {},
   "outputs": [
    {
     "name": "stdout",
     "output_type": "stream",
     "text": [
      "<class 'pandas.core.frame.DataFrame'>\n",
      "RangeIndex: 740 entries, 0 to 739\n",
      "Data columns (total 21 columns):\n",
      "ID                                 740 non-null object\n",
      "Reason for absence                 737 non-null object\n",
      "Month of absence                   739 non-null object\n",
      "Day of the week                    740 non-null object\n",
      "Seasons                            740 non-null object\n",
      "Transportation expense             733 non-null float64\n",
      "Distance from Residence to Work    737 non-null float64\n",
      "Service time                       737 non-null float64\n",
      "Age                                737 non-null float64\n",
      "Work load Average/day              730 non-null float64\n",
      "Hit target                         734 non-null float64\n",
      "Disciplinary failure               734 non-null object\n",
      "Education                          730 non-null object\n",
      "Son                                734 non-null float64\n",
      "Social drinker                     737 non-null object\n",
      "Social smoker                      736 non-null object\n",
      "Pet                                738 non-null float64\n",
      "Weight                             739 non-null float64\n",
      "Height                             726 non-null float64\n",
      "Body mass index                    709 non-null float64\n",
      "Absenteeism time in hours          718 non-null float64\n",
      "dtypes: float64(12), object(9)\n",
      "memory usage: 121.5+ KB\n"
     ]
    }
   ],
   "source": [
    "data_frame.info()"
   ]
  },
  {
   "cell_type": "markdown",
   "metadata": {},
   "source": [
    "# Data Pre-Processing"
   ]
  },
  {
   "cell_type": "code",
   "execution_count": 6,
   "metadata": {},
   "outputs": [
    {
     "data": {
      "text/plain": [
       "ID                                  0\n",
       "Reason for absence                  3\n",
       "Month of absence                    1\n",
       "Day of the week                     0\n",
       "Seasons                             0\n",
       "Transportation expense              7\n",
       "Distance from Residence to Work     3\n",
       "Service time                        3\n",
       "Age                                 3\n",
       "Work load Average/day              10\n",
       "Hit target                          6\n",
       "Disciplinary failure                6\n",
       "Education                          10\n",
       "Son                                 6\n",
       "Social drinker                      3\n",
       "Social smoker                       4\n",
       "Pet                                 2\n",
       "Weight                              1\n",
       "Height                             14\n",
       "Body mass index                    31\n",
       "Absenteeism time in hours          22\n",
       "dtype: int64"
      ]
     },
     "execution_count": 6,
     "metadata": {},
     "output_type": "execute_result"
    }
   ],
   "source": [
    "data_frame.isnull().sum()"
   ]
  },
  {
   "cell_type": "markdown",
   "metadata": {},
   "source": [
    "# Missing Value Analysis"
   ]
  },
  {
   "cell_type": "code",
   "execution_count": 7,
   "metadata": {},
   "outputs": [],
   "source": [
    "#Create dataframe with missing percentage\n",
    "missing_val = pd.DataFrame(data_frame.isnull().sum())\n",
    "\n",
    "#Reset index\n",
    "missing_val = missing_val.reset_index()\n",
    "\n",
    "#Rename variable\n",
    "missing_val = missing_val.rename(columns = {'index': 'Variables', 0: 'Missing_percentage'})\n",
    "\n",
    "#Calculate percentage\n",
    "missing_val['Missing_percentage'] = (missing_val['Missing_percentage']/len(data_frame))*100\n",
    "\n",
    "#descending order\n",
    "missing_val = missing_val.sort_values('Missing_percentage', ascending = False).reset_index(drop = True)\n",
    "\n",
    "#save output results \n",
    "missing_val.to_csv(\"Missing_percent.csv\", index = False)"
   ]
  },
  {
   "cell_type": "code",
   "execution_count": 8,
   "metadata": {},
   "outputs": [
    {
     "data": {
      "text/plain": [
       "248.0"
      ]
     },
     "execution_count": 8,
     "metadata": {},
     "output_type": "execute_result"
    }
   ],
   "source": [
    "#imputation method\n",
    "#Actual value = 248\n",
    "#Mean = 220\n",
    "#Median = 225\n",
    "\n",
    "#create missing value\n",
    "data_frame['Transportation expense'].loc[70]"
   ]
  },
  {
   "cell_type": "code",
   "execution_count": 9,
   "metadata": {},
   "outputs": [
    {
     "name": "stderr",
     "output_type": "stream",
     "text": [
      "C:\\Users\\sai sriram\\Anaconda\\lib\\site-packages\\pandas\\core\\indexing.py:189: SettingWithCopyWarning: \n",
      "A value is trying to be set on a copy of a slice from a DataFrame\n",
      "\n",
      "See the caveats in the documentation: http://pandas.pydata.org/pandas-docs/stable/indexing.html#indexing-view-versus-copy\n",
      "  self._setitem_with_indexer(indexer, value)\n"
     ]
    }
   ],
   "source": [
    "data_frame['Transportation expense'].loc[70] = np.nan"
   ]
  },
  {
   "cell_type": "code",
   "execution_count": 10,
   "metadata": {},
   "outputs": [],
   "source": [
    "#KNN imputation\n",
    "#Assigning levels to the categories\n",
    "lis = []\n",
    "for i in range(0, data_frame.shape[1]):\n",
    "    #print(i)\n",
    "    if(data_frame.iloc[:,i].dtypes == 'object'):\n",
    "        data_frame.iloc[:,i] = pd.Categorical(data_frame.iloc[:,i])\n",
    "        #print(marketing_train[[i]])\n",
    "        data_frame.iloc[:,i] = data_frame.iloc[:,i].cat.codes \n",
    "        data_frame.iloc[:,i] = data_frame.iloc[:,i].astype('object')\n",
    "        \n",
    "        lis.append(data_frame.columns[i])\n"
   ]
  },
  {
   "cell_type": "code",
   "execution_count": 11,
   "metadata": {},
   "outputs": [],
   "source": [
    "#replace -1 with NA to impute\n",
    "for i in range(0, data_frame.shape[1]):\n",
    "    data_frame.iloc[:,i] = data_frame.iloc[:,i].replace(-1, np.nan) \n",
    "\n",
    "#Impute with mean\n",
    "#data_frame['Transportation expense'] = data_frame['Transportation expense'].fillna(data_frame['Transportation expense'].mean())\n",
    "\n",
    "#Impute with median\n",
    "#data_frame['Transportation expense'] = data_frame['Transportation expense'].fillna(data_frame['Transportation expense'].median())"
   ]
  },
  {
   "cell_type": "code",
   "execution_count": 12,
   "metadata": {},
   "outputs": [],
   "source": [
    "#Impute with median\n",
    "data_frame['Absenteeism time in hours'] = data_frame['Absenteeism time in hours'].fillna(data_frame['Absenteeism time in hours'].median())\n",
    "data_frame['Body mass index'] = data_frame['Body mass index'].fillna(data_frame['Body mass index'].median())\n",
    "data_frame['Height'] = data_frame['Height'].fillna(data_frame['Height'].median())\n",
    "data_frame['Weight'] = data_frame['Weight'].fillna(data_frame['Weight'].median())\n",
    "data_frame['Pet'] = data_frame['Pet'].fillna(data_frame['Pet'].median())\n",
    "data_frame['Social smoker'] = data_frame['Social smoker'].fillna(data_frame['Social smoker'].median())\n",
    "data_frame['Social drinker'] = data_frame['Social drinker'].fillna(data_frame['Social drinker'].median())\n",
    "data_frame['Son'] = data_frame['Son'].fillna(data_frame['Son'].median())\n",
    "data_frame['Education'] = data_frame['Education'].fillna(data_frame['Education'].median())\n",
    "data_frame['Disciplinary failure'] = data_frame['Disciplinary failure'].fillna(data_frame['Disciplinary failure'].median())\n",
    "data_frame['Hit target'] = data_frame['Hit target'].fillna(data_frame['Hit target'].median())\n",
    "data_frame['Age'] = data_frame['Age'].fillna(data_frame['Age'].median())\n",
    "data_frame['Service time'] = data_frame['Service time'].fillna(data_frame['Service time'].median())\n",
    "data_frame['Distance from Residence to Work'] = data_frame['Distance from Residence to Work'].fillna(data_frame['Distance from Residence to Work'].median())\n",
    "data_frame['Transportation expense'] = data_frame['Transportation expense'].fillna(data_frame['Transportation expense'].median())\n",
    "data_frame['Month of absence'] = data_frame['Month of absence'].fillna(data_frame['Month of absence'].median())\n",
    "data_frame['Reason for absence'] = data_frame['Reason for absence'].fillna(data_frame['Reason for absence'].median())\n",
    "data_frame['Work load Average/day '] = data_frame['Work load Average/day '].fillna(data_frame['Work load Average/day '].median())\n",
    "\n"
   ]
  },
  {
   "cell_type": "code",
   "execution_count": 13,
   "metadata": {},
   "outputs": [
    {
     "data": {
      "text/plain": [
       "ID                                 0\n",
       "Reason for absence                 0\n",
       "Month of absence                   0\n",
       "Day of the week                    0\n",
       "Seasons                            0\n",
       "Transportation expense             0\n",
       "Distance from Residence to Work    0\n",
       "Service time                       0\n",
       "Age                                0\n",
       "Work load Average/day              0\n",
       "Hit target                         0\n",
       "Disciplinary failure               0\n",
       "Education                          0\n",
       "Son                                0\n",
       "Social drinker                     0\n",
       "Social smoker                      0\n",
       "Pet                                0\n",
       "Weight                             0\n",
       "Height                             0\n",
       "Body mass index                    0\n",
       "Absenteeism time in hours          0\n",
       "dtype: int64"
      ]
     },
     "execution_count": 13,
     "metadata": {},
     "output_type": "execute_result"
    }
   ],
   "source": [
    "data_frame.isnull().sum()"
   ]
  },
  {
   "cell_type": "code",
   "execution_count": 15,
   "metadata": {},
   "outputs": [],
   "source": [
    "num_var =  [ \"Transportation expense\", \"Distance from Residence to Work\", \"Service time\",\"Age\",\n",
    "            \"Hit target\",\"Son\",\"Pet\",\"Height\", \"Body mass index\",\"Weight\", \"Absenteeism time in hours\"]"
   ]
  },
  {
   "cell_type": "markdown",
   "metadata": {},
   "source": [
    "# Feature selection"
   ]
  },
  {
   "cell_type": "code",
   "execution_count": 16,
   "metadata": {},
   "outputs": [],
   "source": [
    "##Correlation analysis\n",
    "#Correlation plot\n",
    "df_corr = data_frame.loc[:,num_var]"
   ]
  },
  {
   "cell_type": "code",
   "execution_count": 17,
   "metadata": {},
   "outputs": [],
   "source": [
    "num_var =  [ \"Transportation expense\", \"Distance from Residence to Work\", \"Service time\",\"Age\",\n",
    "            \"Hit target\",\"Son\",\"Pet\",\"Height\", \"Body mass index\",\"Weight\", \"Absenteeism time in hours\"]"
   ]
  },
  {
   "cell_type": "code",
   "execution_count": 18,
   "metadata": {},
   "outputs": [
    {
     "data": {
      "image/png": "[encoded data removed]",
      "text/plain": [
       "<Figure size 504x360 with 2 Axes>"
      ]
     },
     "metadata": {
      "needs_background": "light"
     },
     "output_type": "display_data"
    }
   ],
   "source": [
    "#Set the width and hieght of the plot\n",
    "f, ax = plt.subplots(figsize=(7, 5))\n",
    "\n",
    "#Generate correlation matrix\n",
    "corr = df_corr.corr()\n",
    "\n",
    "#Plot using seaborn library\n",
    "sns.heatmap(corr, mask=np.zeros_like(corr, dtype=np.bool), cmap=sns.diverging_palette(220, 10, as_cmap=True),\n",
    "            square=True, ax=ax)\n",
    "plt.savefig('correlation.png')"
   ]
  },
  {
   "cell_type": "code",
   "execution_count": 19,
   "metadata": {},
   "outputs": [],
   "source": [
    "#Chisquare test of independence\n",
    "#Save categorical variables \n",
    "\n",
    "cat_var = [\"Reason for absence\", \"Month of absence\", \"Day of the week\",\"ID\",\n",
    "             \"Disciplinary failure\", \"Education\", \"Seasons\", \"Social drinker\",\"Social smoker\"]"
   ]
  },
  {
   "cell_type": "code",
   "execution_count": 20,
   "metadata": {},
   "outputs": [
    {
     "name": "stdout",
     "output_type": "stream",
     "text": [
      "Reason for absence\n",
      "7.262525646531397e-126\n",
      "Month of absence\n",
      "2.5138924624334413e-08\n",
      "Day of the week\n",
      "0.003021081110471532\n",
      "ID\n",
      "3.4969703324549064e-10\n",
      "Disciplinary failure\n",
      "2.811327292697691e-103\n",
      "Education\n",
      "0.966890372726654\n",
      "Seasons\n",
      "1.0699164671285167e-06\n",
      "Social drinker\n",
      "0.0023832329972678858\n",
      "Social smoker\n",
      "0.5104529781136267\n"
     ]
    }
   ],
   "source": [
    "#loop for chi square values\n",
    "for i in cat_var:\n",
    "    print(i)\n",
    "    chi2, p, dof, ex = chi2_contingency(pd.crosstab(data_frame['Absenteeism time in hours'], data_frame[i]))\n",
    "    print(p)"
   ]
  },
  {
   "cell_type": "markdown",
   "metadata": {},
   "source": [
    "# Dimension Reduction"
   ]
  },
  {
   "cell_type": "code",
   "execution_count": 21,
   "metadata": {},
   "outputs": [],
   "source": [
    "#feature reduction\n",
    "#ID,Body.mass.index, Education, Social.smoker, Social.drinker, Seasons, Disciplinary.failure\n",
    "\n",
    "#data_frame = data_frame.drop(['Body mass index','Social smoker', 'Education'], axis=1)\n",
    "data_frame = data_frame.drop(['ID','Body mass index','Social smoker', 'Education','Social drinker', 'Seasons', 'Disciplinary failure'], axis=1)\n",
    "#data_frame.shape"
   ]
  },
  {
   "cell_type": "markdown",
   "metadata": {},
   "source": [
    "# Normalization"
   ]
  },
  {
   "cell_type": "code",
   "execution_count": 23,
   "metadata": {},
   "outputs": [
    {
     "name": "stdout",
     "output_type": "stream",
     "text": [
      "Transportation expense\n",
      "Distance from Residence to Work\n",
      "Service time\n",
      "Age\n",
      "Hit target\n",
      "Son\n",
      "Pet\n",
      "Height\n",
      "Weight\n",
      "Absenteeism time in hours\n"
     ]
    }
   ],
   "source": [
    "num_var =  [ \"Transportation expense\", \"Distance from Residence to Work\", \"Service time\",\"Age\",\n",
    "            \"Hit target\",\"Son\",\"Pet\",\"Height\",\"Weight\", \"Absenteeism time in hours\"]\n",
    "\n",
    "data_frame.shape\n",
    "#Nomalisation\n",
    "for i in num_var:\n",
    "    print(i)\n",
    "    data_frame[i] = (data_frame[i] - min(data_frame[i]))/(max(data_frame[i]) - min(data_frame[i]))"
   ]
  },
  {
   "cell_type": "markdown",
   "metadata": {},
   "source": [
    "# writing the processed data back to directory"
   ]
  },
  {
   "cell_type": "code",
   "execution_count": 24,
   "metadata": {},
   "outputs": [
    {
     "data": {
      "text/plain": [
       "(740, 14)"
      ]
     },
     "execution_count": 24,
     "metadata": {},
     "output_type": "execute_result"
    }
   ],
   "source": [
    "data_frame.to_excel(\"processed_data.xls\")\n",
    "data_frame.shape"
   ]
  },
  {
   "cell_type": "markdown",
   "metadata": {},
   "source": [
    "# Model Development"
   ]
  },
  {
   "cell_type": "code",
   "execution_count": 25,
   "metadata": {},
   "outputs": [],
   "source": [
    "#Dividing the processed data into train and test\n",
    "x = data_frame.values[:, 0:13]\n",
    "y = data_frame.values[:,13]\n",
    "y = y.astype('int')\n",
    "\n",
    "x_train, x_test, y_train, y_test = train_test_split( x, y, test_size = 0.2)"
   ]
  },
  {
   "cell_type": "markdown",
   "metadata": {},
   "source": [
    "# Decision tree for regression"
   ]
  },
  {
   "cell_type": "markdown",
   "metadata": {},
   "source": [
    "\n"
   ]
  },
  {
   "cell_type": "code",
   "execution_count": 26,
   "metadata": {},
   "outputs": [],
   "source": [
    "fit_DT = DecisionTreeRegressor(max_depth=2).fit(x,y)"
   ]
  },
  {
   "cell_type": "markdown",
   "metadata": {},
   "source": [
    "# Prediction on test data"
   ]
  },
  {
   "cell_type": "code",
   "execution_count": 27,
   "metadata": {},
   "outputs": [],
   "source": [
    "predictions_DT = fit_DT.predict(data_frame.values[:,0:13])"
   ]
  },
  {
   "cell_type": "markdown",
   "metadata": {},
   "source": [
    "# Defining rmse for evaluating performance of model"
   ]
  },
  {
   "cell_type": "code",
   "execution_count": 28,
   "metadata": {},
   "outputs": [],
   "source": [
    "def rmse(predictions, targets):\n",
    "    return np.sqrt(((predictions - targets) ** 2).mean())"
   ]
  },
  {
   "cell_type": "code",
   "execution_count": 29,
   "metadata": {},
   "outputs": [
    {
     "data": {
      "text/plain": [
       "0.11600601900777739"
      ]
     },
     "execution_count": 29,
     "metadata": {},
     "output_type": "execute_result"
    }
   ],
   "source": [
    "rmse(data_frame.values[:,13], predictions_DT)"
   ]
  },
  {
   "cell_type": "code",
   "execution_count": 30,
   "metadata": {},
   "outputs": [],
   "source": [
    "#RandomForest Model\n",
    "from sklearn.ensemble import RandomForestClassifier\n",
    "rf_model = RandomForestClassifier(n_estimators = 20).fit(x_train, y_train)"
   ]
  },
  {
   "cell_type": "code",
   "execution_count": 31,
   "metadata": {},
   "outputs": [],
   "source": [
    "rf_predictions = rf_model.predict(x_test)"
   ]
  },
  {
   "cell_type": "code",
   "execution_count": 36,
   "metadata": {},
   "outputs": [
    {
     "name": "stdout",
     "output_type": "stream",
     "text": [
      "RMSLE Value:  0.08219949365267865\n"
     ]
    }
   ],
   "source": [
    "print(\"RMSLE Value: \", rmse(y_test,rf_predictions))"
   ]
  }
 ],
 "metadata": {
  "kernelspec": {
   "display_name": "Python 3",
   "language": "python",
   "name": "python3"
  },
  "language_info": {
   "codemirror_mode": {
    "name": "ipython",
    "version": 3
   },
   "file_extension": ".py",
   "mimetype": "text/x-python",
   "name": "python",
   "nbconvert_exporter": "python",
   "pygments_lexer": "ipython3",
   "version": "3.7.0"
  }
 },
 "nbformat": 4,
 "nbformat_minor": 2
}
